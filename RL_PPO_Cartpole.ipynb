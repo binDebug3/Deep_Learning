{
  "cells": [
    {
      "cell_type": "markdown",
      "metadata": {
        "id": "w-jFCArcTC-B"
      },
      "source": [
        "<a \n",
        "href=\"https://colab.research.google.com/github/wingated/cs474_labs_f2019/blob/master/DL_Lab9.ipynb\"\n",
        "  target=\"_parent\">\n",
        "  <img\n",
        "    src=\"https://colab.research.google.com/assets/colab-badge.svg\"\n",
        "    alt=\"Open In Colab\"/>\n",
        "</a>"
      ]
    },
    {
      "cell_type": "markdown",
      "metadata": {
        "id": "sl7hEuB3J4k3"
      },
      "source": [
        "# Lab 10: Deep Reinforcement Learning\n",
        "\n",
        "## Objective\n",
        "\n",
        "- Build DQN and PPO Deep RL algorithms\n",
        "- Learn the difference between Q Learning and Policy Gradient techniques\n",
        "\n",
        "## Deliverable\n",
        "\n",
        "For this lab you will submit an ipython notebook via learning suite. This lab gives you a lot of code, and you should only need to modify two of the cells of this notebook. Feel free to download and modify this notebook or create your own. The below code is given for your convinience. You can modify any of the given code if you wish.\n",
        "\n",
        "## Tips\n",
        "\n",
        "Deep reinforcement learning is difficult. We provide hyperparameters, visualizations, and code for gathering experience, but require you to code up algorithms for training your networks. \n",
        "\n",
        "- Your networks should be able to demonstrate learning on cartpole within a minute of wall time.\n",
        "\n",
        "- Understand what your the starter code is doing. This will help you with the *TODO* sections. The main code block is similar for the two algorithms with some small yet important differences.\n",
        "\n",
        "- We provide hyperparameters for you to start with. Feel free to experiment with different values, but these worked for us.\n",
        "\n",
        "- **Print dtypes and shapes** throughout your code to make sure your tensors look the way you expect.\n",
        "\n",
        "- The DQN algorithm is significantly more unstable than PPO. Even with a correct implementation it may fail to learn every 1/10 times.\n",
        "\n",
        "- Unfortunately visualizing your agent acting in the environment is non-trivial in Colab. You can visualize your agent by running this code locally and uncommenting the `env.render()` line.\n",
        "\n",
        "## Grading\n",
        "\n",
        "- 40% Part 1: DQN *TODO* methods\n",
        "- 40% Part 2: PPO *TODO* methods\n",
        "- 20% Cartpole learning curves\n",
        "\n",
        "\n",
        "### Cartpole\n",
        "\n",
        "Cartpole is a simple environment to get your agent up and running. It has a continuous state space of 4 dimensions and a discrete action space of 2. The agent is given a reward of 1 for each timestep it remains standing. Your agent should be able to reach close to 200 cumulative reward for an episode after a minute or two of training. The below graphs show example results for dqn (left) and ppo (right).\n",
        "\n",
        "![alt text](https://drive.google.com/uc?export=view&id=1Bpz1jOPMF1zJMW6XBJJ44sJ-RmO_q6_U)\n",
        "![alt text](https://drive.google.com/uc?export=view&id=1M1yygXhLKDL8qfRXn7fh_K-zq7-pQRhY)\n",
        "\n",
        "### TODO\n",
        "\n",
        "- Train DQN and PPO on cartpole\n",
        "- Display learning curves with average episodic reward per epoch"
      ]
    },
    {
      "cell_type": "markdown",
      "metadata": {
        "id": "gVWokqnVab6O"
      },
      "source": [
        "# Starter Code"
      ]
    },
    {
      "cell_type": "markdown",
      "metadata": {
        "id": "WhaPOG6xt0yn"
      },
      "source": [
        "## Init"
      ]
    },
    {
      "cell_type": "code",
      "execution_count": 1,
      "metadata": {
        "id": "EyykNyRM1Tf3",
        "colab": {
          "base_uri": "https://localhost:8080/"
        },
        "outputId": "dd78d150-e42b-4356-d0d5-032417c12f55"
      },
      "outputs": [
        {
          "output_type": "stream",
          "name": "stdout",
          "text": [
            "Looking in indexes: https://pypi.org/simple, https://us-python.pkg.dev/colab-wheels/public/simple/\n",
            "Collecting gymnasium\n",
            "  Downloading gymnasium-0.28.1-py3-none-any.whl (925 kB)\n",
            "\u001b[2K     \u001b[90m━━━━━━━━━━━━━━━━━━━━━━━━━━━━━━━━━━━━━━\u001b[0m \u001b[32m925.5/925.5 KB\u001b[0m \u001b[31m45.0 MB/s\u001b[0m eta \u001b[36m0:00:00\u001b[0m\n",
            "\u001b[?25hCollecting farama-notifications>=0.0.1\n",
            "  Downloading Farama_Notifications-0.0.4-py3-none-any.whl (2.5 kB)\n",
            "Collecting jax-jumpy>=1.0.0\n",
            "  Downloading jax_jumpy-1.0.0-py3-none-any.whl (20 kB)\n",
            "Requirement already satisfied: numpy>=1.21.0 in /usr/local/lib/python3.9/dist-packages (from gymnasium) (1.22.4)\n",
            "Requirement already satisfied: importlib-metadata>=4.8.0 in /usr/local/lib/python3.9/dist-packages (from gymnasium) (6.1.0)\n",
            "Requirement already satisfied: cloudpickle>=1.2.0 in /usr/local/lib/python3.9/dist-packages (from gymnasium) (2.2.1)\n",
            "Requirement already satisfied: typing-extensions>=4.3.0 in /usr/local/lib/python3.9/dist-packages (from gymnasium) (4.5.0)\n",
            "Requirement already satisfied: zipp>=0.5 in /usr/local/lib/python3.9/dist-packages (from importlib-metadata>=4.8.0->gymnasium) (3.15.0)\n",
            "Installing collected packages: farama-notifications, jax-jumpy, gymnasium\n",
            "Successfully installed farama-notifications-0.0.4 gymnasium-0.28.1 jax-jumpy-1.0.0\n",
            "Looking in indexes: https://pypi.org/simple, https://us-python.pkg.dev/colab-wheels/public/simple/\n",
            "Requirement already satisfied: torch in /usr/local/lib/python3.9/dist-packages (1.13.1+cu116)\n",
            "Requirement already satisfied: typing-extensions in /usr/local/lib/python3.9/dist-packages (from torch) (4.5.0)\n",
            "Looking in indexes: https://pypi.org/simple, https://us-python.pkg.dev/colab-wheels/public/simple/\n",
            "Requirement already satisfied: pygame in /usr/local/lib/python3.9/dist-packages (2.3.0)\n",
            "Looking in indexes: https://pypi.org/simple, https://us-python.pkg.dev/colab-wheels/public/simple/\n",
            "Requirement already satisfied: moviepy==1.0.3 in /usr/local/lib/python3.9/dist-packages (1.0.3)\n",
            "Requirement already satisfied: imageio<3.0,>=2.5 in /usr/local/lib/python3.9/dist-packages (from moviepy==1.0.3) (2.25.1)\n",
            "Requirement already satisfied: numpy in /usr/local/lib/python3.9/dist-packages (from moviepy==1.0.3) (1.22.4)\n",
            "Requirement already satisfied: proglog<=1.0.0 in /usr/local/lib/python3.9/dist-packages (from moviepy==1.0.3) (0.1.10)\n",
            "Requirement already satisfied: decorator<5.0,>=4.0.2 in /usr/local/lib/python3.9/dist-packages (from moviepy==1.0.3) (4.4.2)\n",
            "Requirement already satisfied: tqdm<5.0,>=4.11.2 in /usr/local/lib/python3.9/dist-packages (from moviepy==1.0.3) (4.65.0)\n",
            "Requirement already satisfied: imageio-ffmpeg>=0.2.0 in /usr/local/lib/python3.9/dist-packages (from moviepy==1.0.3) (0.4.8)\n",
            "Requirement already satisfied: requests<3.0,>=2.8.1 in /usr/local/lib/python3.9/dist-packages (from moviepy==1.0.3) (2.27.1)\n",
            "Requirement already satisfied: pillow>=8.3.2 in /usr/local/lib/python3.9/dist-packages (from imageio<3.0,>=2.5->moviepy==1.0.3) (8.4.0)\n",
            "Requirement already satisfied: urllib3<1.27,>=1.21.1 in /usr/local/lib/python3.9/dist-packages (from requests<3.0,>=2.8.1->moviepy==1.0.3) (1.26.15)\n",
            "Requirement already satisfied: certifi>=2017.4.17 in /usr/local/lib/python3.9/dist-packages (from requests<3.0,>=2.8.1->moviepy==1.0.3) (2022.12.7)\n",
            "Requirement already satisfied: idna<4,>=2.5 in /usr/local/lib/python3.9/dist-packages (from requests<3.0,>=2.8.1->moviepy==1.0.3) (3.4)\n",
            "Requirement already satisfied: charset-normalizer~=2.0.0 in /usr/local/lib/python3.9/dist-packages (from requests<3.0,>=2.8.1->moviepy==1.0.3) (2.0.12)\n",
            "Looking in indexes: https://pypi.org/simple, https://us-python.pkg.dev/colab-wheels/public/simple/\n",
            "Requirement already satisfied: imageio_ffmpeg in /usr/local/lib/python3.9/dist-packages (0.4.8)\n",
            "Looking in indexes: https://pypi.org/simple, https://us-python.pkg.dev/colab-wheels/public/simple/\n",
            "Collecting pyvirtualdisplay\n",
            "  Downloading PyVirtualDisplay-3.0-py3-none-any.whl (15 kB)\n",
            "Installing collected packages: pyvirtualdisplay\n",
            "Successfully installed pyvirtualdisplay-3.0\n",
            "Reading package lists... Done\n",
            "Building dependency tree       \n",
            "Reading state information... Done\n",
            "ffmpeg is already the newest version (7:4.2.7-0ubuntu0.1).\n",
            "The following additional packages will be installed:\n",
            "  freeglut3 libpython2-stdlib python2 python2-minimal\n",
            "Suggested packages:\n",
            "  python-tk python-numpy libgle3 python2-doc\n",
            "The following NEW packages will be installed:\n",
            "  freeglut3 libpython2-stdlib python-opengl python2 python2-minimal xvfb\n",
            "0 upgraded, 6 newly installed, 0 to remove and 23 not upgraded.\n",
            "Need to get 1,400 kB of archives.\n",
            "After this operation, 8,330 kB of additional disk space will be used.\n",
            "Get:1 http://archive.ubuntu.com/ubuntu focal/universe amd64 python2-minimal amd64 2.7.17-2ubuntu4 [27.5 kB]\n",
            "Get:2 http://archive.ubuntu.com/ubuntu focal/universe amd64 libpython2-stdlib amd64 2.7.17-2ubuntu4 [7,072 B]\n",
            "Get:3 http://archive.ubuntu.com/ubuntu focal/universe amd64 python2 amd64 2.7.17-2ubuntu4 [26.5 kB]\n",
            "Get:4 http://archive.ubuntu.com/ubuntu focal/universe amd64 freeglut3 amd64 2.8.1-3 [73.6 kB]\n",
            "Get:5 http://archive.ubuntu.com/ubuntu focal/universe amd64 python-opengl all 3.1.0+dfsg-2build1 [486 kB]\n",
            "Get:6 http://archive.ubuntu.com/ubuntu focal-updates/universe amd64 xvfb amd64 2:1.20.13-1ubuntu1~20.04.6 [780 kB]\n",
            "Fetched 1,400 kB in 2s (794 kB/s)\n",
            "Selecting previously unselected package python2-minimal.\n",
            "(Reading database ... 128288 files and directories currently installed.)\n",
            "Preparing to unpack .../python2-minimal_2.7.17-2ubuntu4_amd64.deb ...\n",
            "Unpacking python2-minimal (2.7.17-2ubuntu4) ...\n",
            "Selecting previously unselected package libpython2-stdlib:amd64.\n",
            "Preparing to unpack .../libpython2-stdlib_2.7.17-2ubuntu4_amd64.deb ...\n",
            "Unpacking libpython2-stdlib:amd64 (2.7.17-2ubuntu4) ...\n",
            "Setting up python2-minimal (2.7.17-2ubuntu4) ...\n",
            "Selecting previously unselected package python2.\n",
            "(Reading database ... 128317 files and directories currently installed.)\n",
            "Preparing to unpack .../python2_2.7.17-2ubuntu4_amd64.deb ...\n",
            "Unpacking python2 (2.7.17-2ubuntu4) ...\n",
            "Selecting previously unselected package freeglut3:amd64.\n",
            "Preparing to unpack .../freeglut3_2.8.1-3_amd64.deb ...\n",
            "Unpacking freeglut3:amd64 (2.8.1-3) ...\n",
            "Selecting previously unselected package python-opengl.\n",
            "Preparing to unpack .../python-opengl_3.1.0+dfsg-2build1_all.deb ...\n",
            "Unpacking python-opengl (3.1.0+dfsg-2build1) ...\n",
            "Selecting previously unselected package xvfb.\n",
            "Preparing to unpack .../xvfb_2%3a1.20.13-1ubuntu1~20.04.6_amd64.deb ...\n",
            "Unpacking xvfb (2:1.20.13-1ubuntu1~20.04.6) ...\n",
            "Setting up freeglut3:amd64 (2.8.1-3) ...\n",
            "Setting up libpython2-stdlib:amd64 (2.7.17-2ubuntu4) ...\n",
            "Setting up xvfb (2:1.20.13-1ubuntu1~20.04.6) ...\n",
            "Setting up python2 (2.7.17-2ubuntu4) ...\n",
            "Setting up python-opengl (3.1.0+dfsg-2build1) ...\n",
            "Processing triggers for man-db (2.9.1-1) ...\n",
            "Processing triggers for libc-bin (2.31-0ubuntu9.9) ...\n"
          ]
        }
      ],
      "source": [
        "! pip3 install gymnasium\n",
        "! pip3 install torch\n",
        "! pip install pygame\n",
        "! pip install moviepy==1.0.3\n",
        "! pip install imageio_ffmpeg\n",
        "####################\n",
        "! pip install pyvirtualdisplay\n",
        "! apt-get install -y xvfb python-opengl ffmpeg\n",
        "####################"
      ]
    },
    {
      "cell_type": "code",
      "execution_count": 2,
      "metadata": {
        "id": "Rim8iocC1Vva"
      },
      "outputs": [],
      "source": [
        "import gymnasium as gym\n",
        "import torch\n",
        "import torch.nn as nn\n",
        "import torch.nn.functional as F\n",
        "from itertools import chain\n",
        "import matplotlib.pyplot as plt\n",
        "from tqdm import tqdm\n",
        "import random\n",
        "from torch.utils.data import Dataset, DataLoader\n",
        "import numpy as np\n",
        "\n",
        "####################\n",
        "from gymnasium import logger as gymlogger\n",
        "from gymnasium.wrappers import RecordVideo\n",
        "gymlogger.set_level(40) #error only\n",
        "\n",
        "import glob\n",
        "import io\n",
        "import base64\n",
        "from IPython.display import HTML\n",
        "from IPython import display as ipythondisplay\n",
        "####################"
      ]
    },
    {
      "cell_type": "code",
      "execution_count": 3,
      "metadata": {
        "id": "l1f8lZp19Lwj",
        "colab": {
          "base_uri": "https://localhost:8080/"
        },
        "outputId": "c62c630d-c618-4989-b6ae-7dcfce80657e"
      },
      "outputs": [
        {
          "output_type": "execute_result",
          "data": {
            "text/plain": [
              "<pyvirtualdisplay.display.Display at 0x7f5f5417a760>"
            ]
          },
          "metadata": {},
          "execution_count": 3
        }
      ],
      "source": [
        "######################\n",
        "from pyvirtualdisplay import Display\n",
        "display = Display(visible=0, size=(1400,900))\n",
        "display.start()\n",
        "######################"
      ]
    },
    {
      "cell_type": "code",
      "execution_count": 4,
      "metadata": {
        "id": "_TI_5c0l9Ojv"
      },
      "outputs": [],
      "source": [
        "######################\n",
        "def show_video():\n",
        "  mp4list = glob.glob('video/*.mp4')\n",
        "  if len(mp4list) > 0:\n",
        "    mp4 = mp4list[0]\n",
        "    video = io.open(mp4, 'r+b').read()\n",
        "    encoded = base64.b64encode(video)\n",
        "    ipythondisplay.display(HTML(data='''<video alt=\"test\" autoplay \n",
        "                loop controls style=\"height: 400px;\">\n",
        "                <source src=\"data:video/mp4;base64,{0}\" type=\"video/mp4\" />\n",
        "             </video>'''.format(encoded.decode('ascii'))))\n",
        "  else: \n",
        "    print(\"Could not find video\")\n",
        "\n",
        "def wrap_env(env):\n",
        "  env = RecordVideo(env, './video')\n",
        "  return env\n",
        "######################"
      ]
    },
    {
      "cell_type": "markdown",
      "metadata": {
        "id": "mV282uYJ2aSw"
      },
      "source": [
        "## DQN"
      ]
    },
    {
      "cell_type": "markdown",
      "metadata": {
        "id": "Qi_aDdTg2btp"
      },
      "source": [
        "## Part 1\n",
        "\n",
        "\n",
        "Deep Q-Network (https://www.cs.toronto.edu/~vmnih/docs/dqn.pdf) is a Q-learning algorithm that learns values for state-action pairs.\n",
        "\n",
        "Actions are sampled according to an $\\epsilon-greedy$ policy to help with exploration of the state space. Every time an action is sampled, the agent chooses a random action with $\\epsilon$ probability. Otherwise, the agent selects the action with the highest Q-value for a state. $\\epsilon$ decays over time according to $\\epsilon \\gets \\epsilon * epsilon\\_decay$.\n",
        "\n",
        "Tuples of state, action, reward, next_state, and terminal $(s,a,r,s',d)$ are collected during training. Every $learn\\_frequency$ steps $sample\\_size$ tuples are sampled and made into 5 tensors tensors of states, actions, rewarads, next_states, and terminals.\n",
        "\n",
        "The loss for a batch of size N is given below.\n",
        "\n",
        "$Loss=\\frac{1}{N}\\sum \\bigg(Q(s,a) - (r + \\gamma \\underset{a'\\sim A}{max} \\hat{Q}(s',a')(1-d))\\bigg)^2 $\n",
        "\n",
        "Loss is calculated and used to update the Q-Network. The target network $\\hat{Q}$ begins as a copy of the Q network but is not updated by the optimizer. Every $target\\_update$ steps, the target network is updated with the parameters of the Q-Network. This process is a type of bootstrapping.\n",
        "\n",
        "### TODO\n",
        "\n",
        "- Implement get action method with e-greedy policy\n",
        "- Implement sample batch method\n",
        "- Implement DQN learning algorithm\n",
        "\n"
      ]
    },
    {
      "cell_type": "code",
      "execution_count": 29,
      "metadata": {
        "id": "_mBUvXkT2dHy"
      },
      "outputs": [],
      "source": [
        "def get_action_dqn(network, state, epsilon, epsilon_decay):\n",
        "  \"\"\"Select action according to e-greedy policy and decay epsilon\n",
        "\n",
        "    Args:\n",
        "        network (QNetwork): Q-Network\n",
        "        state (np-array): current state, size (state_size)\n",
        "        epsilon (float): probability of choosing a random action\n",
        "        epsilon_decay (float): amount by which to decay epsilon\n",
        "\n",
        "    Returns:\n",
        "        action (int): chosen action [0, action_size)\n",
        "        epsilon (float): decayed epsilon\n",
        "  \"\"\"\n",
        "  # Get Q-values for the state from the Q-Network\n",
        "  q_values = network(torch.tensor(state).cuda())\n",
        "\n",
        "  # Select action according to e-greedy policy\n",
        "  if np.random.random() < epsilon:\n",
        "      # Choose a random action\n",
        "      action = np.random.randint(0, 2)\n",
        "  else:\n",
        "      # Choose the action with the highest Q-value\n",
        "      action = torch.argmax(q_values).item()\n",
        "\n",
        "  # Decay epsilon\n",
        "  return action, epsilon * epsilon_decay\n",
        "\n",
        "\n",
        "def prepare_batch(memory, batch_size):\n",
        "  \"\"\"Randomly sample batch from memory\n",
        "     Prepare cuda tensors\n",
        "\n",
        "    Args:\n",
        "        memory (list): state, action, next_state, reward, done tuples\n",
        "        batch_size (int): amount of memory to sample into a batch\n",
        "\n",
        "    Returns:\n",
        "        state (tensor): float cuda tensor of size (batch_size x state_size)\n",
        "        action (tensor): long tensor of size (batch_size)\n",
        "        next_state (tensor): float cuda tensor of size (batch_size x state_size)\n",
        "        reward (tensor): float cuda tensor of size (batch_size)\n",
        "        done (tensor): float cuda tensor of size (batch_size)\n",
        "  \"\"\"\n",
        "  # Randomly sample a batch of memory\n",
        "  batch = random.sample(memory, batch_size)\n",
        "\n",
        "  # Convert the batch to tensors and move them to the GPU\n",
        "  state = torch.tensor([transition[0] for transition in batch], dtype=torch.float32).cuda()\n",
        "  action = torch.tensor([transition[1] for transition in batch], dtype=torch.long).cuda()\n",
        "  next_state = torch.tensor([transition[2] for transition in batch], dtype=torch.float32).cuda()\n",
        "  reward = torch.tensor([transition[3] for transition in batch], dtype=torch.float32).cuda()\n",
        "  done = torch.tensor([transition[4] for transition in batch], dtype=torch.float32).cuda()\n",
        "\n",
        "  return state, action, next_state, reward, done\n",
        "\n",
        "  \n",
        "def learn_dqn(batch, optim, q_network, target_network, gamma, global_step, target_update):\n",
        "  \"\"\"Update Q-Network according to DQN Loss function\n",
        "     Update Target Network every target_update global steps\n",
        "\n",
        "    Args:\n",
        "        batch (tuple): tuple of state, action, next_state, reward, and done tensors\n",
        "        optim (Adam): Q-Network optimizer\n",
        "        q_network (QNetwork): Q-Network\n",
        "        target_network (QNetwork): Target Q-Network\n",
        "        gamma (float): discount factor\n",
        "        global_step (int): total steps taken in environment\n",
        "        target_update (int): frequency of target network update\n",
        "  \"\"\"\n",
        "  # Unpack the batch\n",
        "  state, action, next_state, reward, done = batch\n",
        "  action_onehot = F.one_hot(action, 2).bool()\n",
        "\n",
        "  optim.zero_grad()\n",
        "\n",
        "  # Compute Q-values for current state-action pairs using Q-Network\n",
        "  q_values = q_network(state)\n",
        "\n",
        "  # Compute target Q-values using Target Q-Network\n",
        "  # with torch.no_grad():\n",
        "  max_q_next = torch.max(target_network(next_state), dim=1)[0]\n",
        "  target_q_values = reward + gamma * max_q_next * (1 - done)\n",
        "\n",
        "  # Compute DQN loss\n",
        "  loss = F.mse_loss(q_values[action_onehot], target_q_values)\n",
        "\n",
        "  # Backpropagation and optimization\n",
        "  \n",
        "  loss.backward()\n",
        "  optim.step()\n",
        "\n",
        "  # Update target network every target_update global steps\n",
        "  if global_step % target_update == 0:\n",
        "      target_network.load_state_dict(q_network.state_dict())\n"
      ]
    },
    {
      "cell_type": "markdown",
      "metadata": {
        "id": "vGQgiY0WvImB"
      },
      "source": [
        "### Modules"
      ]
    },
    {
      "cell_type": "code",
      "execution_count": 30,
      "metadata": {
        "id": "1vMhl-oevIBo"
      },
      "outputs": [],
      "source": [
        "# Q-Value Network\n",
        "class QNetwork(nn.Module):\n",
        "  def __init__(self, state_size, action_size):\n",
        "    super().__init__()\n",
        "    hidden_size = 8\n",
        "    \n",
        "    self.net = nn.Sequential(nn.Linear(state_size, hidden_size),\n",
        "                             nn.ReLU(),\n",
        "                             nn.Linear(hidden_size, hidden_size),\n",
        "                             nn.ReLU(),\n",
        "                             nn.Linear(hidden_size, hidden_size),\n",
        "                             nn.ReLU(),\n",
        "                             nn.Linear(hidden_size, action_size))  \n",
        "    \n",
        "  def forward(self, x):\n",
        "    \"\"\"Estimate q-values given state\n",
        "\n",
        "      Args:\n",
        "          state (tensor): current state, size (batch x state_size)\n",
        "\n",
        "      Returns:\n",
        "          q-values (tensor): estimated q-values, size (batch x action_size)\n",
        "    \"\"\"\n",
        "    return self.net(x)"
      ]
    },
    {
      "cell_type": "markdown",
      "metadata": {
        "id": "yCafVI552dgg"
      },
      "source": [
        "### Main"
      ]
    },
    {
      "cell_type": "code",
      "execution_count": 31,
      "metadata": {
        "id": "8Sy_r9Wr2eg8",
        "colab": {
          "base_uri": "https://localhost:8080/",
          "height": 612
        },
        "outputId": "f43f0d5a-d408-435a-dc20-d2ae76bffafb"
      },
      "outputs": [
        {
          "output_type": "stream",
          "name": "stderr",
          "text": [
            "Episodes: 498 Reward: 185.0: 100%|█████████▉| 499/500 [01:27<00:00,  2.83it/s]"
          ]
        },
        {
          "output_type": "stream",
          "name": "stdout",
          "text": [
            "Moviepy - Building video /content/video/rl-video-episode-0.mp4.\n",
            "Moviepy - Writing video /content/video/rl-video-episode-0.mp4\n",
            "\n"
          ]
        },
        {
          "output_type": "stream",
          "name": "stderr",
          "text": [
            "\n",
            "t:   0%|          | 0/183 [00:00<?, ?it/s, now=None]\u001b[A\n",
            "t:  26%|██▌       | 48/183 [00:00<00:00, 432.91it/s, now=None]\u001b[A\n",
            "t:  50%|█████     | 92/183 [00:00<00:00, 373.12it/s, now=None]\u001b[A\n",
            "t:  71%|███████   | 130/183 [00:00<00:00, 333.84it/s, now=None]\u001b[A\n",
            "t:  90%|████████▉ | 164/183 [00:00<00:00, 317.80it/s, now=None]\u001b[A\n",
            "                                                                              "
          ]
        },
        {
          "output_type": "stream",
          "name": "stdout",
          "text": [
            "Moviepy - Done !\n",
            "Moviepy - video ready /content/video/rl-video-episode-0.mp4\n"
          ]
        },
        {
          "output_type": "stream",
          "name": "stderr",
          "text": [
            "\r"
          ]
        },
        {
          "output_type": "display_data",
          "data": {
            "text/plain": [
              "<IPython.core.display.HTML object>"
            ],
            "text/html": [
              "<video alt=\"test\" autoplay \n",
              "                loop controls style=\"height: 400px;\">\n",
              "                <source src=\"data:video/mp4;base64,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\" type=\"video/mp4\" />\n",
              "             </video>"
            ]
          },
          "metadata": {}
        }
      ],
      "source": [
        "def dqn_main():\n",
        "  # Hyper parameters\n",
        "  lr = 1e-3\n",
        "  epochs = 500\n",
        "  start_training = 1000\n",
        "  gamma = 0.99\n",
        "  batch_size = 32\n",
        "  epsilon = 1\n",
        "  epsilon_decay = .9999\n",
        "  target_update = 1000\n",
        "  learn_frequency = 2\n",
        "\n",
        "  # Init environment\n",
        "  state_size = 4\n",
        "  action_size = 2\n",
        "  env = gym.make('CartPole-v1', render_mode=\"rgb_array\")\n",
        "\n",
        "  # Init networks\n",
        "  q_network = QNetwork(state_size, action_size).cuda()\n",
        "  target_network = QNetwork(state_size, action_size).cuda()\n",
        "  target_network.load_state_dict(q_network.state_dict())\n",
        "\n",
        "  # Init optimizer\n",
        "  optim = torch.optim.Adam(q_network.parameters(), lr=lr)\n",
        "\n",
        "  # Init replay buffer\n",
        "  memory = []\n",
        "\n",
        "  # Begin main loop\n",
        "  results_dqn = []\n",
        "  global_step = 0\n",
        "  loop = tqdm(total=epochs, position=0, leave=False)\n",
        "  for epoch in range(epochs):\n",
        "    ######################\n",
        "    last_epoch = (epoch+1 == epochs)\n",
        "    # Record the last epoch, not the previous epochs\n",
        "    if last_epoch:\n",
        "      env = wrap_env(env)\n",
        "    ######################\n",
        "\n",
        "    # Reset environment\n",
        "    state, _ = env.reset()\n",
        "    done = False\n",
        "    cum_reward = 0  # Track cumulative reward per episode\n",
        "\n",
        "    # Begin episode\n",
        "    while not done and cum_reward < 200:  # End after 200 steps \n",
        "      # Select e-greedy action\n",
        "      action, epsilon = get_action_dqn(q_network, state, epsilon, epsilon_decay)\n",
        "\n",
        "      # Take step\n",
        "      next_state, reward, terminated, truncated, _ = env.step(action)\n",
        "      done = terminated or truncated\n",
        "      # env.render()\n",
        "\n",
        "      # Store step in replay buffer\n",
        "      memory.append((state, action, next_state, reward, done))\n",
        "\n",
        "      cum_reward += reward\n",
        "      global_step += 1  # Increment total steps\n",
        "      state = next_state  # Set current state\n",
        "\n",
        "      # If time to train\n",
        "      if global_step > start_training and global_step % learn_frequency == 0:\n",
        "\n",
        "        # Sample batch\n",
        "        batch = prepare_batch(memory, batch_size)\n",
        "        \n",
        "        # Train\n",
        "        learn_dqn(batch, optim, q_network, target_network, gamma, global_step, target_update)\n",
        "    ######################\n",
        "    env.close()\n",
        "    ######################\n",
        "    # Print results at end of episode\n",
        "    results_dqn.append(cum_reward)\n",
        "    loop.update(1)\n",
        "    loop.set_description('Episodes: {} Reward: {}'.format(epoch, cum_reward))\n",
        "  \n",
        "  return results_dqn\n",
        "\n",
        "results_dqn = dqn_main()\n",
        "######################\n",
        "show_video()\n",
        "######################"
      ]
    },
    {
      "cell_type": "code",
      "execution_count": 32,
      "metadata": {
        "id": "ZWYwytCDC3aw",
        "colab": {
          "base_uri": "https://localhost:8080/",
          "height": 430
        },
        "outputId": "33f0280e-94fd-4d27-fd65-9595d92f76a0"
      },
      "outputs": [
        {
          "output_type": "display_data",
          "data": {
            "text/plain": [
              "<Figure size 640x480 with 1 Axes>"
            ],
            "image/png": "[encoded data removed]"
          },
          "metadata": {}
        }
      ],
      "source": [
        "plt.plot(results_dqn)\n",
        "plt.show()"
      ]
    },
    {
      "cell_type": "markdown",
      "metadata": {
        "id": "qN9yy5EWVNz0"
      },
      "source": [
        "## PPO"
      ]
    },
    {
      "cell_type": "markdown",
      "metadata": {
        "id": "XvRUJUew0yN_"
      },
      "source": [
        "## Part 2\n",
        "\n",
        "Proximal Policy Optimization (https://arxiv.org/pdf/1707.06347.pdf) is a type of policy gradient method. Instead of calculating Q-values, we train a network $\\pi$ to optimize the probability of taking good actions directly, using states as inputs and actions as outputs. PPO also uses a value network $V$ that estimates state values in order to estimate the advantage $\\hat{A}$. \n",
        "\n",
        "Tuples of state, action distribution, action taken, and return $(s,\\pi(s), a,\\hat{R})$ are gathered for several rollouts. After training on this experience, these tuples are discarded and new experience is gathered.\n",
        "\n",
        "Loss for the value network and the policy network are calculated according to the following formula:\n",
        "\n",
        "$Loss=ValueLoss+PolicyLoss$\n",
        "\n",
        "$ValueLoss=\\frac{1}{N}\\sum \\bigg(\\hat{R} - V(s) \\bigg)^2 $\n",
        "\n",
        "$PolicyLoss=-\\frac{1}{N}\\sum \\min\\bigg( \\frac{\\pi'(a|s)}{\\pi(a|s)} \\hat{A}, clip(\\frac{\\pi'(a|s)}{\\pi(a|s)},1-\\epsilon,1+\\epsilon) \\hat{A} \\bigg) $\n",
        "\n",
        "$\\hat{R}_t = \\sum_{i=t}^H \\gamma^{i-1}r_i$\n",
        "\n",
        "$\\hat{A}_t=\\hat{R}_t-V(s_t)$\n",
        "\n",
        "Here, $\\pi'(a|s)$ is the probability of taking an action given a state under the current policy and $\\pi(a|s)$ is the probability of taking an action given a state under the policy used to gather data. In the loss function, $a$ is the action your agent actually took and is sampled from memory. \n",
        "\n",
        "Additionally, the $clip$ function clips the value of the first argument according to the lower and upper bounds in the second and third arguments resectively.\n",
        "\n",
        "Another important note: Your the calculation of your advantage $\\hat{A}$ should not permit gradient flow from your policy loss calculation. In other words, make sure to call `.detach()` on your advantage.\n",
        "\n",
        "### TODO\n",
        "\n",
        "- Implement calculate return method\n",
        "- Implement get action method\n",
        "- Implement PPO learning algorithm"
      ]
    },
    {
      "cell_type": "code",
      "execution_count": 57,
      "metadata": {
        "id": "zsm1pILHVcEp"
      },
      "outputs": [],
      "source": [
        "def calculate_return(memory, rollout, gamma):\n",
        "  \"\"\"Return memory with calculated return in experience tuple\n",
        "\n",
        "    Args:\n",
        "        memory (list): (state, action, action_dist, return) tuples\n",
        "        rollout (list): (state, action, action_dist, reward) tuples from last rollout\n",
        "        gamma (float): discount factor\n",
        "\n",
        "    Returns:\n",
        "        list: memory updated with (state, action, action_dist, return) tuples from rollout\n",
        "  \"\"\"\n",
        "  # initialize return value\n",
        "  total_return = 0\n",
        "\n",
        "  # iterative over rollout in reverse order\n",
        "  for i in range(len(rollout)-1, -1, -1):\n",
        "      state, action, action_dist, reward = rollout[i]\n",
        "\n",
        "      # update total return\n",
        "      total_return = gamma * total_return + reward\n",
        "\n",
        "      # update memory\n",
        "      memory.append((state, action, action_dist, total_return))\n",
        "\n",
        "  return memory\n",
        "\n",
        "\n",
        "def get_action_ppo(network, state):\n",
        "  \"\"\"Sample action from the distribution obtained from the policy network\n",
        "\n",
        "    Args:\n",
        "        network (PolicyNetwork): Policy Network\n",
        "        state (np-array): current state, size (state_size)\n",
        "\n",
        "    Returns:\n",
        "        int: action sampled from output distribution of policy network\n",
        "        array: output distribution of policy network\n",
        "  \"\"\"\n",
        "  # convert state to a tensor and add a batch dimension\n",
        "  state = torch.FloatTensor(state).unsqueeze(0).cuda()\n",
        "\n",
        "  # get a tuple containing the action probabilities and the value estimate\n",
        "  with torch.no_grad():\n",
        "      action_probs = network(state)\n",
        "  # remove the batch dimension\n",
        "  action_probs = action_probs.squeeze()\n",
        "\n",
        "  # sample the probabilities to get the action\n",
        "  action = torch.multinomial(action_probs, 1)\n",
        "\n",
        "  return action.item(), action_probs.detach().cpu().numpy()\n",
        "\n",
        "\n",
        "def learn_ppo(optim, policy, value, memory_dataloader, epsilon, policy_epochs):\n",
        "  \"\"\"Implement PPO policy and value network updates. Iterate over your entire \n",
        "     memory the number of times indicated by policy_epochs.    \n",
        "\n",
        "    Args:\n",
        "        optim (Adam): value and policy optimizer\n",
        "        policy (PolicyNetwork): Policy Network\n",
        "        value (ValueNetwork): Value Network\n",
        "        memory_dataloader (DataLoader): dataloader with (state, action, action_dist, return) tensors\n",
        "        epsilon (float): trust region\n",
        "        policy_epochs (int): number of times to iterate over all memory\n",
        "  \"\"\"\n",
        "  # iterative over all memory {policy_epochs} times\n",
        "  for epoch in range(policy_epochs):\n",
        "        for state, action, old_action_probs, return_ in memory_dataloader:\n",
        "\n",
        "            # convert data types and put them on the cuda\n",
        "            state = state.float().cuda()\n",
        "            action = action.long().cuda()\n",
        "            old_action_probs = old_action_probs.float().cuda()\n",
        "            return_ = return_.float().cuda()\n",
        "\n",
        "            # Calculate advantages from old policy\n",
        "            old_value = value(state)\n",
        "            advantages = return_ - old_value.detach()\n",
        "\n",
        "            # Calculate action probabilities and entropy\n",
        "            action_probs = policy(state)\n",
        "            dist = torch.distributions.Categorical(action_probs)\n",
        "            entropy = dist.entropy()\n",
        "\n",
        "            # # Calculate action probabilities and entropy\n",
        "            # action_probs, _ = policy(state)\n",
        "            # dist = torch.distributions.multinomial.MultiNominal(probs=action_probs)\n",
        "            # sampled_actions = dist.sample()\n",
        "            # entropy = dist.entropy()\n",
        "\n",
        "            # Calculate ratios and surrogate losses\n",
        "            new_prob = action_probs.gather(1, action.unsqueeze(-1)).squeeze(-1)\n",
        "            old_prob = old_action_probs.gather(1, action.unsqueeze(-1)).squeeze(-1)\n",
        "            # ratios\n",
        "            ratios = new_prob / old_prob\n",
        "            clipped_ratios = torch.clamp(ratios, 1 - epsilon, 1 + epsilon)\n",
        "            # surrogates\n",
        "            surrogate1 = ratios * advantages\n",
        "            surrogate2 = clipped_ratios * advantages\n",
        "            # policy\n",
        "            policy_loss = -torch.min(surrogate1, surrogate2).mean() - 0.01 * entropy.mean()\n",
        "\n",
        "            # Update policy network\n",
        "            optim.zero_grad()\n",
        "            policy_loss.backward()\n",
        "            optim.step()\n",
        "\n",
        "            # Update value network\n",
        "            new_value = value(state)\n",
        "            value_loss = F.mse_loss(return_, new_value.squeeze())\n",
        "            optim.zero_grad()\n",
        "            value_loss.backward()\n",
        "            optim.step()\n",
        "\n",
        "  "
      ]
    },
    {
      "cell_type": "markdown",
      "metadata": {
        "id": "R6RXma_-vSGX"
      },
      "source": [
        "### Modules"
      ]
    },
    {
      "cell_type": "code",
      "execution_count": 58,
      "metadata": {
        "id": "L8URnP8xvTTG"
      },
      "outputs": [],
      "source": [
        "# Dataset that wraps memory for a dataloader\n",
        "class RLDataset(Dataset):\n",
        "  def __init__(self, data):\n",
        "    super().__init__()\n",
        "    self.data = []\n",
        "    for d in data:\n",
        "      self.data.append(d)\n",
        "  \n",
        "  def __getitem__(self, index):\n",
        "    return self.data[index]\n",
        " \n",
        "  def __len__(self):\n",
        "    return len(self.data)\n",
        "\n",
        "\n",
        "# Policy Network\n",
        "class PolicyNetwork(nn.Module):\n",
        "  def __init__(self, state_size, action_size):\n",
        "    super().__init__()\n",
        "    hidden_size = 8\n",
        "    \n",
        "    self.net = nn.Sequential(nn.Linear(state_size, hidden_size),\n",
        "                             nn.ReLU(),\n",
        "                             nn.Linear(hidden_size, hidden_size),\n",
        "                             nn.ReLU(),\n",
        "                             nn.Linear(hidden_size, hidden_size),\n",
        "                             nn.ReLU(),\n",
        "                             nn.Linear(hidden_size, action_size),\n",
        "                             nn.Softmax(dim=1))\n",
        "  \n",
        "  def forward(self, x):\n",
        "    \"\"\"Get policy from state\n",
        "\n",
        "      Args:\n",
        "          state (tensor): current state, size (batch x state_size)\n",
        "\n",
        "      Returns:\n",
        "          action_dist (tensor): probability distribution over actions (batch x action_size)\n",
        "    \"\"\"\n",
        "    return self.net(x)\n",
        "  \n",
        "\n",
        "# Value Network\n",
        "class ValueNetwork(nn.Module):\n",
        "  def __init__(self, state_size):\n",
        "    super().__init__()\n",
        "    hidden_size = 8\n",
        "  \n",
        "    self.net = nn.Sequential(nn.Linear(state_size, hidden_size),\n",
        "                             nn.ReLU(),\n",
        "                             nn.Linear(hidden_size, hidden_size),\n",
        "                             nn.ReLU(),\n",
        "                             nn.Linear(hidden_size, hidden_size),\n",
        "                             nn.ReLU(),\n",
        "                             nn.Linear(hidden_size, 1))\n",
        "    \n",
        "  def forward(self, x):\n",
        "    \"\"\"Estimate value given state\n",
        "\n",
        "      Args:\n",
        "          state (tensor): current state, size (batch x state_size)\n",
        "\n",
        "      Returns:\n",
        "          value (tensor): estimated value, size (batch)\n",
        "    \"\"\"\n",
        "    return self.net(x)"
      ]
    },
    {
      "cell_type": "markdown",
      "metadata": {
        "id": "_aBD_R_e01Qb"
      },
      "source": [
        "### Main"
      ]
    },
    {
      "cell_type": "code",
      "execution_count": 59,
      "metadata": {
        "id": "qX_Bv4M4MyY2",
        "colab": {
          "base_uri": "https://localhost:8080/",
          "height": 1000
        },
        "outputId": "9e51d3e5-308e-4db7-a98c-364c7966639f"
      },
      "outputs": [
        {
          "output_type": "stream",
          "name": "stderr",
          "text": [
            "Epochs: 18 Reward: 200.0:  95%|█████████▌| 19/20 [02:55<00:13, 13.19s/it]"
          ]
        },
        {
          "output_type": "stream",
          "name": "stdout",
          "text": [
            "Moviepy - Building video /content/video/rl-video-episode-0.mp4.\n",
            "Moviepy - Writing video /content/video/rl-video-episode-0.mp4\n",
            "\n"
          ]
        },
        {
          "output_type": "stream",
          "name": "stderr",
          "text": [
            "\n",
            "t:   0%|          | 0/202 [00:00<?, ?it/s, now=None]\u001b[A\n",
            "t:  24%|██▍       | 48/202 [00:00<00:00, 415.67it/s, now=None]\u001b[A\n",
            "t:  45%|████▍     | 90/202 [00:00<00:00, 363.65it/s, now=None]\u001b[A\n",
            "t:  63%|██████▎   | 127/202 [00:00<00:00, 346.57it/s, now=None]\u001b[A\n",
            "t:  80%|████████  | 162/202 [00:00<00:00, 320.75it/s, now=None]\u001b[A\n",
            "t:  97%|█████████▋| 195/202 [00:00<00:00, 315.39it/s, now=None]\u001b[A\n",
            "Epochs: 18 Reward: 200.0:  95%|█████████▌| 19/20 [02:56<00:13, 13.19s/it]"
          ]
        },
        {
          "output_type": "stream",
          "name": "stdout",
          "text": [
            "Moviepy - Done !\n",
            "Moviepy - video ready /content/video/rl-video-episode-0.mp4\n"
          ]
        },
        {
          "output_type": "stream",
          "name": "stderr",
          "text": [
            "Epochs: 18 Reward: 200.0:  95%|█████████▌| 19/20 [02:56<00:13, 13.19s/it]"
          ]
        },
        {
          "output_type": "stream",
          "name": "stdout",
          "text": [
            "Moviepy - Building video /content/video/rl-video-episode-0.mp4.\n",
            "Moviepy - Writing video /content/video/rl-video-episode-0.mp4\n",
            "\n"
          ]
        },
        {
          "output_type": "stream",
          "name": "stderr",
          "text": [
            "\n",
            "t:   0%|          | 0/202 [00:00<?, ?it/s, now=None]\u001b[A\n",
            "t:  24%|██▍       | 48/202 [00:00<00:00, 410.69it/s, now=None]\u001b[A\n",
            "t:  45%|████▍     | 90/202 [00:00<00:00, 361.13it/s, now=None]\u001b[A\n",
            "t:  63%|██████▎   | 127/202 [00:00<00:00, 332.91it/s, now=None]\u001b[A\n",
            "t:  80%|███████▉  | 161/202 [00:00<00:00, 321.71it/s, now=None]\u001b[A\n",
            "t:  96%|█████████▌| 194/202 [00:00<00:00, 300.61it/s, now=None]\u001b[A\n",
            "Epochs: 18 Reward: 200.0:  95%|█████████▌| 19/20 [02:57<00:13, 13.19s/it]"
          ]
        },
        {
          "output_type": "stream",
          "name": "stdout",
          "text": [
            "Moviepy - Done !\n",
            "Moviepy - video ready /content/video/rl-video-episode-0.mp4\n"
          ]
        },
        {
          "output_type": "stream",
          "name": "stderr",
          "text": [
            "Epochs: 18 Reward: 200.0:  95%|█████████▌| 19/20 [02:58<00:13, 13.19s/it]"
          ]
        },
        {
          "output_type": "stream",
          "name": "stdout",
          "text": [
            "Moviepy - Building video /content/video/rl-video-episode-0.mp4.\n",
            "Moviepy - Writing video /content/video/rl-video-episode-0.mp4\n",
            "\n"
          ]
        },
        {
          "output_type": "stream",
          "name": "stderr",
          "text": [
            "\n",
            "t:   0%|          | 0/162 [00:00<?, ?it/s, now=None]\u001b[A\n",
            "t:  30%|██▉       | 48/162 [00:00<00:00, 449.23it/s, now=None]\u001b[A\n",
            "t:  57%|█████▋    | 93/162 [00:00<00:00, 333.43it/s, now=None]\u001b[A\n",
            "t:  79%|███████▉  | 128/162 [00:00<00:00, 314.27it/s, now=None]\u001b[A\n",
            "t:  99%|█████████▉| 161/162 [00:00<00:00, 305.01it/s, now=None]\u001b[A\n",
            "Epochs: 18 Reward: 200.0:  95%|█████████▌| 19/20 [02:58<00:13, 13.19s/it]"
          ]
        },
        {
          "output_type": "stream",
          "name": "stdout",
          "text": [
            "Moviepy - Done !\n",
            "Moviepy - video ready /content/video/rl-video-episode-0.mp4\n"
          ]
        },
        {
          "output_type": "stream",
          "name": "stderr",
          "text": [
            "Epochs: 18 Reward: 200.0:  95%|█████████▌| 19/20 [02:59<00:13, 13.19s/it]"
          ]
        },
        {
          "output_type": "stream",
          "name": "stdout",
          "text": [
            "Moviepy - Building video /content/video/rl-video-episode-1.mp4.\n",
            "Moviepy - Writing video /content/video/rl-video-episode-1.mp4\n",
            "\n"
          ]
        },
        {
          "output_type": "stream",
          "name": "stderr",
          "text": [
            "\n",
            "t:   0%|          | 0/202 [00:00<?, ?it/s, now=None]\u001b[A\n",
            "t:  24%|██▍       | 48/202 [00:00<00:00, 444.29it/s, now=None]\u001b[A\n",
            "t:  46%|████▌     | 93/202 [00:00<00:00, 331.33it/s, now=None]\u001b[A\n",
            "t:  63%|██████▎   | 128/202 [00:00<00:00, 293.06it/s, now=None]\u001b[A\n",
            "t:  79%|███████▊  | 159/202 [00:00<00:00, 289.39it/s, now=None]\u001b[A\n",
            "t:  94%|█████████▎| 189/202 [00:00<00:00, 289.88it/s, now=None]\u001b[A\n",
            "Epochs: 18 Reward: 200.0:  95%|█████████▌| 19/20 [03:00<00:13, 13.19s/it]"
          ]
        },
        {
          "output_type": "stream",
          "name": "stdout",
          "text": [
            "Moviepy - Done !\n",
            "Moviepy - video ready /content/video/rl-video-episode-1.mp4\n"
          ]
        },
        {
          "output_type": "stream",
          "name": "stderr",
          "text": [
            "Epochs: 18 Reward: 200.0:  95%|█████████▌| 19/20 [03:00<00:13, 13.19s/it]"
          ]
        },
        {
          "output_type": "stream",
          "name": "stdout",
          "text": [
            "Moviepy - Building video /content/video/rl-video-episode-1.mp4.\n",
            "Moviepy - Writing video /content/video/rl-video-episode-1.mp4\n",
            "\n"
          ]
        },
        {
          "output_type": "stream",
          "name": "stderr",
          "text": [
            "\n",
            "t:   0%|          | 0/202 [00:00<?, ?it/s, now=None]\u001b[A\n",
            "t:  24%|██▍       | 48/202 [00:00<00:00, 418.36it/s, now=None]\u001b[A\n",
            "t:  45%|████▍     | 90/202 [00:00<00:00, 343.56it/s, now=None]\u001b[A\n",
            "t:  62%|██████▏   | 125/202 [00:00<00:00, 312.84it/s, now=None]\u001b[A\n",
            "t:  78%|███████▊  | 157/202 [00:00<00:00, 294.02it/s, now=None]\u001b[A\n",
            "t:  93%|█████████▎| 187/202 [00:00<00:00, 294.96it/s, now=None]\u001b[A\n",
            "Epochs: 18 Reward: 200.0:  95%|█████████▌| 19/20 [03:01<00:13, 13.19s/it]"
          ]
        },
        {
          "output_type": "stream",
          "name": "stdout",
          "text": [
            "Moviepy - Done !\n",
            "Moviepy - video ready /content/video/rl-video-episode-1.mp4\n"
          ]
        },
        {
          "output_type": "stream",
          "name": "stderr",
          "text": [
            "Epochs: 18 Reward: 200.0:  95%|█████████▌| 19/20 [03:02<00:13, 13.19s/it]"
          ]
        },
        {
          "output_type": "stream",
          "name": "stdout",
          "text": [
            "Moviepy - Building video /content/video/rl-video-episode-1.mp4.\n",
            "Moviepy - Writing video /content/video/rl-video-episode-1.mp4\n",
            "\n"
          ]
        },
        {
          "output_type": "stream",
          "name": "stderr",
          "text": [
            "\n",
            "t:   0%|          | 0/202 [00:00<?, ?it/s, now=None]\u001b[A\n",
            "t:  21%|██▏       | 43/202 [00:00<00:00, 428.60it/s, now=None]\u001b[A\n",
            "t:  43%|████▎     | 86/202 [00:00<00:00, 303.72it/s, now=None]\u001b[A\n",
            "t:  59%|█████▉    | 119/202 [00:00<00:00, 298.10it/s, now=None]\u001b[A\n",
            "t:  74%|███████▍  | 150/202 [00:00<00:00, 295.62it/s, now=None]\u001b[A\n",
            "t:  90%|████████▉ | 181/202 [00:00<00:00, 297.70it/s, now=None]\u001b[A\n",
            "Epochs: 18 Reward: 200.0:  95%|█████████▌| 19/20 [03:03<00:13, 13.19s/it]"
          ]
        },
        {
          "output_type": "stream",
          "name": "stdout",
          "text": [
            "Moviepy - Done !\n",
            "Moviepy - video ready /content/video/rl-video-episode-1.mp4\n"
          ]
        },
        {
          "output_type": "stream",
          "name": "stderr",
          "text": [
            "Epochs: 18 Reward: 200.0:  95%|█████████▌| 19/20 [03:03<00:13, 13.19s/it]"
          ]
        },
        {
          "output_type": "stream",
          "name": "stdout",
          "text": [
            "Moviepy - Building video /content/video/rl-video-episode-1.mp4.\n",
            "Moviepy - Writing video /content/video/rl-video-episode-1.mp4\n",
            "\n"
          ]
        },
        {
          "output_type": "stream",
          "name": "stderr",
          "text": [
            "\n",
            "t:   0%|          | 0/185 [00:00<?, ?it/s, now=None]\u001b[A\n",
            "t:  26%|██▌       | 48/185 [00:00<00:00, 423.16it/s, now=None]\u001b[A\n",
            "t:  49%|████▉     | 91/185 [00:00<00:00, 299.31it/s, now=None]\u001b[A\n",
            "t:  66%|██████▋   | 123/185 [00:00<00:00, 238.81it/s, now=None]\u001b[A\n",
            "t:  81%|████████  | 149/185 [00:00<00:00, 213.45it/s, now=None]\u001b[A\n",
            "t:  93%|█████████▎| 172/185 [00:00<00:00, 198.03it/s, now=None]\u001b[A\n",
            "Epochs: 18 Reward: 200.0:  95%|█████████▌| 19/20 [03:04<00:13, 13.19s/it]"
          ]
        },
        {
          "output_type": "stream",
          "name": "stdout",
          "text": [
            "Moviepy - Done !\n",
            "Moviepy - video ready /content/video/rl-video-episode-1.mp4\n"
          ]
        },
        {
          "output_type": "stream",
          "name": "stderr",
          "text": [
            "Epochs: 18 Reward: 200.0:  95%|█████████▌| 19/20 [03:07<00:13, 13.19s/it]"
          ]
        },
        {
          "output_type": "stream",
          "name": "stdout",
          "text": [
            "Moviepy - Building video /content/video/rl-video-episode-8.mp4.\n",
            "Moviepy - Writing video /content/video/rl-video-episode-8.mp4\n",
            "\n"
          ]
        },
        {
          "output_type": "stream",
          "name": "stderr",
          "text": [
            "\n",
            "t:   0%|          | 0/1 [00:00<?, ?it/s, now=None]\u001b[A\n",
            "Epochs: 18 Reward: 200.0:  95%|█████████▌| 19/20 [03:07<00:13, 13.19s/it]"
          ]
        },
        {
          "output_type": "stream",
          "name": "stdout",
          "text": [
            "Moviepy - Done !\n",
            "Moviepy - video ready /content/video/rl-video-episode-8.mp4\n"
          ]
        },
        {
          "output_type": "stream",
          "name": "stderr",
          "text": [
            "Epochs: 18 Reward: 200.0:  95%|█████████▌| 19/20 [03:08<00:13, 13.19s/it]"
          ]
        },
        {
          "output_type": "stream",
          "name": "stdout",
          "text": [
            "Moviepy - Building video /content/video/rl-video-episode-8.mp4.\n",
            "Moviepy - Writing video /content/video/rl-video-episode-8.mp4\n",
            "\n"
          ]
        },
        {
          "output_type": "stream",
          "name": "stderr",
          "text": [
            "\n",
            "t:   0%|          | 0/171 [00:00<?, ?it/s, now=None]\u001b[A\n",
            "t:  22%|██▏       | 38/171 [00:00<00:00, 373.42it/s, now=None]\u001b[A\n",
            "t:  44%|████▍     | 76/171 [00:00<00:00, 268.50it/s, now=None]\u001b[A\n",
            "t:  62%|██████▏   | 106/171 [00:00<00:00, 277.39it/s, now=None]\u001b[A\n",
            "t:  79%|███████▉  | 135/171 [00:00<00:00, 281.22it/s, now=None]\u001b[A\n",
            "t:  96%|█████████▌| 164/171 [00:00<00:00, 277.48it/s, now=None]\u001b[A\n",
            "Epochs: 18 Reward: 200.0:  95%|█████████▌| 19/20 [03:09<00:13, 13.19s/it]"
          ]
        },
        {
          "output_type": "stream",
          "name": "stdout",
          "text": [
            "Moviepy - Done !\n",
            "Moviepy - video ready /content/video/rl-video-episode-8.mp4\n"
          ]
        },
        {
          "output_type": "stream",
          "name": "stderr",
          "text": [
            "Epochs: 18 Reward: 200.0:  95%|█████████▌| 19/20 [03:14<00:13, 13.19s/it]"
          ]
        },
        {
          "output_type": "stream",
          "name": "stdout",
          "text": [
            "Moviepy - Building video /content/video/rl-video-episode-27.mp4.\n",
            "Moviepy - Writing video /content/video/rl-video-episode-27.mp4\n",
            "\n"
          ]
        },
        {
          "output_type": "stream",
          "name": "stderr",
          "text": [
            "\n",
            "t:   0%|          | 0/1 [00:00<?, ?it/s, now=None]\u001b[A\n",
            "Epochs: 18 Reward: 200.0:  95%|█████████▌| 19/20 [03:14<00:13, 13.19s/it]"
          ]
        },
        {
          "output_type": "stream",
          "name": "stdout",
          "text": [
            "Moviepy - Done !\n",
            "Moviepy - video ready /content/video/rl-video-episode-27.mp4\n"
          ]
        },
        {
          "output_type": "stream",
          "name": "stderr",
          "text": [
            "Epochs: 18 Reward: 200.0:  95%|█████████▌| 19/20 [03:15<00:13, 13.19s/it]"
          ]
        },
        {
          "output_type": "stream",
          "name": "stdout",
          "text": [
            "Moviepy - Building video /content/video/rl-video-episode-27.mp4.\n",
            "Moviepy - Writing video /content/video/rl-video-episode-27.mp4\n",
            "\n"
          ]
        },
        {
          "output_type": "stream",
          "name": "stderr",
          "text": [
            "\n",
            "t:   0%|          | 0/150 [00:00<?, ?it/s, now=None]\u001b[A\n",
            "t:  32%|███▏      | 48/150 [00:00<00:00, 441.60it/s, now=None]\u001b[A\n",
            "t:  62%|██████▏   | 93/150 [00:00<00:00, 342.26it/s, now=None]\u001b[A\n",
            "t:  86%|████████▌ | 129/150 [00:00<00:00, 306.18it/s, now=None]\u001b[A\n",
            "Epochs: 18 Reward: 200.0:  95%|█████████▌| 19/20 [03:15<00:13, 13.19s/it]"
          ]
        },
        {
          "output_type": "stream",
          "name": "stdout",
          "text": [
            "Moviepy - Done !\n",
            "Moviepy - video ready /content/video/rl-video-episode-27.mp4\n"
          ]
        },
        {
          "output_type": "stream",
          "name": "stderr",
          "text": []
        },
        {
          "output_type": "display_data",
          "data": {
            "text/plain": [
              "<IPython.core.display.HTML object>"
            ],
            "text/html": [
              "<video alt=\"test\" autoplay \n",
              "                loop controls style=\"height: 400px;\">\n",
              "                <source src=\"data:video/mp4;base64,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\" type=\"video/mp4\" />\n",
              "             </video>"
            ]
          },
          "metadata": {}
        }
      ],
      "source": [
        "def ppo_main():\n",
        "  # Hyper parameters\n",
        "  lr = 1e-3\n",
        "  epochs = 20\n",
        "  env_samples = 100\n",
        "  gamma = 0.9\n",
        "  batch_size = 256\n",
        "  epsilon = 0.2\n",
        "  policy_epochs = 5\n",
        "\n",
        "  # Init environment \n",
        "  state_size = 4\n",
        "  action_size = 2\n",
        "  env = gym.make('CartPole-v1', render_mode=\"rgb_array\")\n",
        "\n",
        "  # Init networks\n",
        "  policy_network = PolicyNetwork(state_size, action_size).cuda()\n",
        "  value_network = ValueNetwork(state_size).cuda()\n",
        "\n",
        "  # Init optimizer\n",
        "  optim = torch.optim.Adam(chain(policy_network.parameters(), value_network.parameters()), lr=lr)\n",
        "\n",
        "  # Start main loop\n",
        "  results_ppo = []\n",
        "  loop = tqdm(total=epochs, position=0, leave=False)\n",
        "  for epoch in range(epochs):\n",
        "    ######################\n",
        "    last_epoch = (epoch+1 == epochs)\n",
        "    # Record only last epoch\n",
        "    if last_epoch:\n",
        "      env = wrap_env(env)\n",
        "    ######################\n",
        "    \n",
        "    memory = []  # Reset memory every epoch\n",
        "    rewards = []  # Calculate average episodic reward per epoch\n",
        "\n",
        "    # Begin experience loop\n",
        "    for episode in range(env_samples):\n",
        "      \n",
        "      # Reset environment\n",
        "      state, _ = env.reset()\n",
        "      done = False\n",
        "      rollout = []\n",
        "      cum_reward = 0  # Track cumulative reward\n",
        "\n",
        "      # Begin episode\n",
        "      while not done and cum_reward < 200:  # End after 200 steps   \n",
        "        # Get action\n",
        "        action, action_dist = get_action_ppo(policy_network, state)\n",
        "        \n",
        "        # Take step\n",
        "        next_state, reward, terminated, truncated, _ = env.step(action)\n",
        "        done = terminated or truncated\n",
        "        # env.render()\n",
        "\n",
        "        # Store step\n",
        "        rollout.append((state, action, action_dist, reward))\n",
        "\n",
        "        cum_reward += reward\n",
        "        state = next_state  # Set current state\n",
        "\n",
        "      # Calculate returns and add episode to memory\n",
        "      memory = calculate_return(memory, rollout, gamma)\n",
        "\n",
        "      rewards.append(cum_reward)\n",
        "      ######################\n",
        "      env.close()\n",
        "      ######################\n",
        "    # Train\n",
        "    dataset = RLDataset(memory)\n",
        "    loader = DataLoader(dataset, batch_size=batch_size, shuffle=True)\n",
        "    learn_ppo(optim, policy_network, value_network, loader, epsilon, policy_epochs)\n",
        "    \n",
        "    # Print results\n",
        "    results_ppo.extend(rewards)  # Store rewards for this epoch\n",
        "    loop.update(1)\n",
        "    loop.set_description(\"Epochs: {} Reward: {}\".format(epoch, results_ppo[-1]))\n",
        "\n",
        "  return results_ppo\n",
        "\n",
        "results_ppo = ppo_main()\n",
        "######################\n",
        "show_video()\n",
        "######################"
      ]
    },
    {
      "cell_type": "code",
      "execution_count": 60,
      "metadata": {
        "id": "pLXetCMpC1DE",
        "colab": {
          "base_uri": "https://localhost:8080/",
          "height": 430
        },
        "outputId": "2ead83e8-c9ca-4b46-e35c-020c7e60ae94"
      },
      "outputs": [
        {
          "output_type": "display_data",
          "data": {
            "text/plain": [
              "<Figure size 640x480 with 1 Axes>"
            ],
            "image/png": "[encoded data removed]"
          },
          "metadata": {}
        }
      ],
      "source": [
        "plt.plot(results_ppo)\n",
        "plt.show()"
      ]
    },
    {
      "cell_type": "code",
      "execution_count": null,
      "metadata": {
        "id": "wHkJqFlnUS9F"
      },
      "outputs": [],
      "source": []
    }
  ],
  "metadata": {
    "accelerator": "GPU",
    "colab": {
      "provenance": []
    },
    "kernelspec": {
      "display_name": "Python 3",
      "language": "python",
      "name": "python3"
    },
    "language_info": {
      "codemirror_mode": {
        "name": "ipython",
        "version": 3
      },
      "file_extension": ".py",
      "mimetype": "text/x-python",
      "name": "python",
      "nbconvert_exporter": "python",
      "pygments_lexer": "ipython3",
      "version": "3.9.15"
    }
  },
  "nbformat": 4,
  "nbformat_minor": 0
}